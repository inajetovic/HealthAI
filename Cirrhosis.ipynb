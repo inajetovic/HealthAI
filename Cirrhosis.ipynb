{
 "cells": [
  {
   "cell_type": "code",
   "execution_count": 3,
   "metadata": {},
   "outputs": [],
   "source": [
    "#Importing Libraries\n",
    "import pandas as pd\n",
    "import numpy as np\n",
    "import seaborn as sns\n",
    "import matplotlib.pyplot as plt\n",
    "import random\n",
    "\n",
    "from sklearn.model_selection import train_test_split\n",
    "from sklearn.ensemble import RandomForestClassifier\n",
    "from sklearn.metrics import classification_report\n",
    "from sklearn.metrics import f1_score\n",
    "from sklearn.metrics import accuracy_score\n",
    "from sklearn.metrics import plot_confusion_matrix\n",
    "from sklearn.model_selection import GridSearchCV\n",
    "\n",
    "from xgboost import XGBClassifier\n",
    "from imblearn.over_sampling import SMOTENC\n",
    "from imblearn.combine import SMOTETomek,SMOTEENN"
   ]
  },
  {
   "cell_type": "code",
   "execution_count": 4,
   "metadata": {},
   "outputs": [],
   "source": [
    "%matplotlib widget"
   ]
  },
  {
   "cell_type": "markdown",
   "metadata": {},
   "source": [
    "# Data Inspection and Visualization"
   ]
  },
  {
   "cell_type": "code",
   "execution_count": 5,
   "metadata": {},
   "outputs": [
    {
     "data": {
      "text/html": [
       "<div>\n",
       "<style scoped>\n",
       "    .dataframe tbody tr th:only-of-type {\n",
       "        vertical-align: middle;\n",
       "    }\n",
       "\n",
       "    .dataframe tbody tr th {\n",
       "        vertical-align: top;\n",
       "    }\n",
       "\n",
       "    .dataframe thead th {\n",
       "        text-align: right;\n",
       "    }\n",
       "</style>\n",
       "<table border=\"1\" class=\"dataframe\">\n",
       "  <thead>\n",
       "    <tr style=\"text-align: right;\">\n",
       "      <th></th>\n",
       "      <th>ID</th>\n",
       "      <th>N_Days</th>\n",
       "      <th>Status</th>\n",
       "      <th>Drug</th>\n",
       "      <th>Age</th>\n",
       "      <th>Sex</th>\n",
       "      <th>Ascites</th>\n",
       "      <th>Hepatomegaly</th>\n",
       "      <th>Spiders</th>\n",
       "      <th>Edema</th>\n",
       "      <th>Bilirubin</th>\n",
       "      <th>Cholesterol</th>\n",
       "      <th>Albumin</th>\n",
       "      <th>Copper</th>\n",
       "      <th>Alk_Phos</th>\n",
       "      <th>SGOT</th>\n",
       "      <th>Tryglicerides</th>\n",
       "      <th>Platelets</th>\n",
       "      <th>Prothrombin</th>\n",
       "      <th>Stage</th>\n",
       "    </tr>\n",
       "  </thead>\n",
       "  <tbody>\n",
       "    <tr>\n",
       "      <td>0</td>\n",
       "      <td>1</td>\n",
       "      <td>400</td>\n",
       "      <td>D</td>\n",
       "      <td>D-penicillamine</td>\n",
       "      <td>21464</td>\n",
       "      <td>F</td>\n",
       "      <td>Y</td>\n",
       "      <td>Y</td>\n",
       "      <td>Y</td>\n",
       "      <td>Y</td>\n",
       "      <td>14.5</td>\n",
       "      <td>261.0</td>\n",
       "      <td>2.60</td>\n",
       "      <td>156.0</td>\n",
       "      <td>1718.0</td>\n",
       "      <td>137.95</td>\n",
       "      <td>172.0</td>\n",
       "      <td>190.0</td>\n",
       "      <td>12.2</td>\n",
       "      <td>4.0</td>\n",
       "    </tr>\n",
       "    <tr>\n",
       "      <td>1</td>\n",
       "      <td>2</td>\n",
       "      <td>4500</td>\n",
       "      <td>C</td>\n",
       "      <td>D-penicillamine</td>\n",
       "      <td>20617</td>\n",
       "      <td>F</td>\n",
       "      <td>N</td>\n",
       "      <td>Y</td>\n",
       "      <td>Y</td>\n",
       "      <td>N</td>\n",
       "      <td>1.1</td>\n",
       "      <td>302.0</td>\n",
       "      <td>4.14</td>\n",
       "      <td>54.0</td>\n",
       "      <td>7394.8</td>\n",
       "      <td>113.52</td>\n",
       "      <td>88.0</td>\n",
       "      <td>221.0</td>\n",
       "      <td>10.6</td>\n",
       "      <td>3.0</td>\n",
       "    </tr>\n",
       "    <tr>\n",
       "      <td>2</td>\n",
       "      <td>3</td>\n",
       "      <td>1012</td>\n",
       "      <td>D</td>\n",
       "      <td>D-penicillamine</td>\n",
       "      <td>25594</td>\n",
       "      <td>M</td>\n",
       "      <td>N</td>\n",
       "      <td>N</td>\n",
       "      <td>N</td>\n",
       "      <td>S</td>\n",
       "      <td>1.4</td>\n",
       "      <td>176.0</td>\n",
       "      <td>3.48</td>\n",
       "      <td>210.0</td>\n",
       "      <td>516.0</td>\n",
       "      <td>96.10</td>\n",
       "      <td>55.0</td>\n",
       "      <td>151.0</td>\n",
       "      <td>12.0</td>\n",
       "      <td>4.0</td>\n",
       "    </tr>\n",
       "    <tr>\n",
       "      <td>3</td>\n",
       "      <td>4</td>\n",
       "      <td>1925</td>\n",
       "      <td>D</td>\n",
       "      <td>D-penicillamine</td>\n",
       "      <td>19994</td>\n",
       "      <td>F</td>\n",
       "      <td>N</td>\n",
       "      <td>Y</td>\n",
       "      <td>Y</td>\n",
       "      <td>S</td>\n",
       "      <td>1.8</td>\n",
       "      <td>244.0</td>\n",
       "      <td>2.54</td>\n",
       "      <td>64.0</td>\n",
       "      <td>6121.8</td>\n",
       "      <td>60.63</td>\n",
       "      <td>92.0</td>\n",
       "      <td>183.0</td>\n",
       "      <td>10.3</td>\n",
       "      <td>4.0</td>\n",
       "    </tr>\n",
       "    <tr>\n",
       "      <td>4</td>\n",
       "      <td>5</td>\n",
       "      <td>1504</td>\n",
       "      <td>CL</td>\n",
       "      <td>Placebo</td>\n",
       "      <td>13918</td>\n",
       "      <td>F</td>\n",
       "      <td>N</td>\n",
       "      <td>Y</td>\n",
       "      <td>Y</td>\n",
       "      <td>N</td>\n",
       "      <td>3.4</td>\n",
       "      <td>279.0</td>\n",
       "      <td>3.53</td>\n",
       "      <td>143.0</td>\n",
       "      <td>671.0</td>\n",
       "      <td>113.15</td>\n",
       "      <td>72.0</td>\n",
       "      <td>136.0</td>\n",
       "      <td>10.9</td>\n",
       "      <td>3.0</td>\n",
       "    </tr>\n",
       "  </tbody>\n",
       "</table>\n",
       "</div>"
      ],
      "text/plain": [
       "   ID  N_Days Status             Drug    Age Sex Ascites Hepatomegaly Spiders  \\\n",
       "0   1     400      D  D-penicillamine  21464   F       Y            Y       Y   \n",
       "1   2    4500      C  D-penicillamine  20617   F       N            Y       Y   \n",
       "2   3    1012      D  D-penicillamine  25594   M       N            N       N   \n",
       "3   4    1925      D  D-penicillamine  19994   F       N            Y       Y   \n",
       "4   5    1504     CL          Placebo  13918   F       N            Y       Y   \n",
       "\n",
       "  Edema  Bilirubin  Cholesterol  Albumin  Copper  Alk_Phos    SGOT  \\\n",
       "0     Y       14.5        261.0     2.60   156.0    1718.0  137.95   \n",
       "1     N        1.1        302.0     4.14    54.0    7394.8  113.52   \n",
       "2     S        1.4        176.0     3.48   210.0     516.0   96.10   \n",
       "3     S        1.8        244.0     2.54    64.0    6121.8   60.63   \n",
       "4     N        3.4        279.0     3.53   143.0     671.0  113.15   \n",
       "\n",
       "   Tryglicerides  Platelets  Prothrombin  Stage  \n",
       "0          172.0      190.0         12.2    4.0  \n",
       "1           88.0      221.0         10.6    3.0  \n",
       "2           55.0      151.0         12.0    4.0  \n",
       "3           92.0      183.0         10.3    4.0  \n",
       "4           72.0      136.0         10.9    3.0  "
      ]
     },
     "execution_count": 5,
     "metadata": {},
     "output_type": "execute_result"
    }
   ],
   "source": [
    "url = './cirrhosis.csv'\n",
    "df = pd.read_csv(url)\n",
    "df.head()"
   ]
  },
  {
   "cell_type": "code",
   "execution_count": 6,
   "metadata": {},
   "outputs": [
    {
     "data": {
      "text/html": [
       "<div>\n",
       "<style scoped>\n",
       "    .dataframe tbody tr th:only-of-type {\n",
       "        vertical-align: middle;\n",
       "    }\n",
       "\n",
       "    .dataframe tbody tr th {\n",
       "        vertical-align: top;\n",
       "    }\n",
       "\n",
       "    .dataframe thead th {\n",
       "        text-align: right;\n",
       "    }\n",
       "</style>\n",
       "<table border=\"1\" class=\"dataframe\">\n",
       "  <thead>\n",
       "    <tr style=\"text-align: right;\">\n",
       "      <th></th>\n",
       "      <th>ID</th>\n",
       "      <th>N_Days</th>\n",
       "      <th>Age</th>\n",
       "      <th>Bilirubin</th>\n",
       "      <th>Cholesterol</th>\n",
       "      <th>Albumin</th>\n",
       "      <th>Copper</th>\n",
       "      <th>Alk_Phos</th>\n",
       "      <th>SGOT</th>\n",
       "      <th>Tryglicerides</th>\n",
       "      <th>Platelets</th>\n",
       "      <th>Prothrombin</th>\n",
       "      <th>Stage</th>\n",
       "    </tr>\n",
       "  </thead>\n",
       "  <tbody>\n",
       "    <tr>\n",
       "      <td>count</td>\n",
       "      <td>418.000000</td>\n",
       "      <td>418.000000</td>\n",
       "      <td>418.000000</td>\n",
       "      <td>418.000000</td>\n",
       "      <td>284.000000</td>\n",
       "      <td>418.000000</td>\n",
       "      <td>310.000000</td>\n",
       "      <td>312.000000</td>\n",
       "      <td>312.000000</td>\n",
       "      <td>282.000000</td>\n",
       "      <td>407.000000</td>\n",
       "      <td>416.000000</td>\n",
       "      <td>412.000000</td>\n",
       "    </tr>\n",
       "    <tr>\n",
       "      <td>mean</td>\n",
       "      <td>209.500000</td>\n",
       "      <td>1917.782297</td>\n",
       "      <td>18533.351675</td>\n",
       "      <td>3.220813</td>\n",
       "      <td>369.510563</td>\n",
       "      <td>3.497440</td>\n",
       "      <td>97.648387</td>\n",
       "      <td>1982.655769</td>\n",
       "      <td>122.556346</td>\n",
       "      <td>124.702128</td>\n",
       "      <td>257.024570</td>\n",
       "      <td>10.731731</td>\n",
       "      <td>3.024272</td>\n",
       "    </tr>\n",
       "    <tr>\n",
       "      <td>std</td>\n",
       "      <td>120.810458</td>\n",
       "      <td>1104.672992</td>\n",
       "      <td>3815.845055</td>\n",
       "      <td>4.407506</td>\n",
       "      <td>231.944545</td>\n",
       "      <td>0.424972</td>\n",
       "      <td>85.613920</td>\n",
       "      <td>2140.388824</td>\n",
       "      <td>56.699525</td>\n",
       "      <td>65.148639</td>\n",
       "      <td>98.325585</td>\n",
       "      <td>1.022000</td>\n",
       "      <td>0.882042</td>\n",
       "    </tr>\n",
       "    <tr>\n",
       "      <td>min</td>\n",
       "      <td>1.000000</td>\n",
       "      <td>41.000000</td>\n",
       "      <td>9598.000000</td>\n",
       "      <td>0.300000</td>\n",
       "      <td>120.000000</td>\n",
       "      <td>1.960000</td>\n",
       "      <td>4.000000</td>\n",
       "      <td>289.000000</td>\n",
       "      <td>26.350000</td>\n",
       "      <td>33.000000</td>\n",
       "      <td>62.000000</td>\n",
       "      <td>9.000000</td>\n",
       "      <td>1.000000</td>\n",
       "    </tr>\n",
       "    <tr>\n",
       "      <td>25%</td>\n",
       "      <td>105.250000</td>\n",
       "      <td>1092.750000</td>\n",
       "      <td>15644.500000</td>\n",
       "      <td>0.800000</td>\n",
       "      <td>249.500000</td>\n",
       "      <td>3.242500</td>\n",
       "      <td>41.250000</td>\n",
       "      <td>871.500000</td>\n",
       "      <td>80.600000</td>\n",
       "      <td>84.250000</td>\n",
       "      <td>188.500000</td>\n",
       "      <td>10.000000</td>\n",
       "      <td>2.000000</td>\n",
       "    </tr>\n",
       "    <tr>\n",
       "      <td>50%</td>\n",
       "      <td>209.500000</td>\n",
       "      <td>1730.000000</td>\n",
       "      <td>18628.000000</td>\n",
       "      <td>1.400000</td>\n",
       "      <td>309.500000</td>\n",
       "      <td>3.530000</td>\n",
       "      <td>73.000000</td>\n",
       "      <td>1259.000000</td>\n",
       "      <td>114.700000</td>\n",
       "      <td>108.000000</td>\n",
       "      <td>251.000000</td>\n",
       "      <td>10.600000</td>\n",
       "      <td>3.000000</td>\n",
       "    </tr>\n",
       "    <tr>\n",
       "      <td>75%</td>\n",
       "      <td>313.750000</td>\n",
       "      <td>2613.500000</td>\n",
       "      <td>21272.500000</td>\n",
       "      <td>3.400000</td>\n",
       "      <td>400.000000</td>\n",
       "      <td>3.770000</td>\n",
       "      <td>123.000000</td>\n",
       "      <td>1980.000000</td>\n",
       "      <td>151.900000</td>\n",
       "      <td>151.000000</td>\n",
       "      <td>318.000000</td>\n",
       "      <td>11.100000</td>\n",
       "      <td>4.000000</td>\n",
       "    </tr>\n",
       "    <tr>\n",
       "      <td>max</td>\n",
       "      <td>418.000000</td>\n",
       "      <td>4795.000000</td>\n",
       "      <td>28650.000000</td>\n",
       "      <td>28.000000</td>\n",
       "      <td>1775.000000</td>\n",
       "      <td>4.640000</td>\n",
       "      <td>588.000000</td>\n",
       "      <td>13862.400000</td>\n",
       "      <td>457.250000</td>\n",
       "      <td>598.000000</td>\n",
       "      <td>721.000000</td>\n",
       "      <td>18.000000</td>\n",
       "      <td>4.000000</td>\n",
       "    </tr>\n",
       "  </tbody>\n",
       "</table>\n",
       "</div>"
      ],
      "text/plain": [
       "               ID       N_Days           Age   Bilirubin  Cholesterol  \\\n",
       "count  418.000000   418.000000    418.000000  418.000000   284.000000   \n",
       "mean   209.500000  1917.782297  18533.351675    3.220813   369.510563   \n",
       "std    120.810458  1104.672992   3815.845055    4.407506   231.944545   \n",
       "min      1.000000    41.000000   9598.000000    0.300000   120.000000   \n",
       "25%    105.250000  1092.750000  15644.500000    0.800000   249.500000   \n",
       "50%    209.500000  1730.000000  18628.000000    1.400000   309.500000   \n",
       "75%    313.750000  2613.500000  21272.500000    3.400000   400.000000   \n",
       "max    418.000000  4795.000000  28650.000000   28.000000  1775.000000   \n",
       "\n",
       "          Albumin      Copper      Alk_Phos        SGOT  Tryglicerides  \\\n",
       "count  418.000000  310.000000    312.000000  312.000000     282.000000   \n",
       "mean     3.497440   97.648387   1982.655769  122.556346     124.702128   \n",
       "std      0.424972   85.613920   2140.388824   56.699525      65.148639   \n",
       "min      1.960000    4.000000    289.000000   26.350000      33.000000   \n",
       "25%      3.242500   41.250000    871.500000   80.600000      84.250000   \n",
       "50%      3.530000   73.000000   1259.000000  114.700000     108.000000   \n",
       "75%      3.770000  123.000000   1980.000000  151.900000     151.000000   \n",
       "max      4.640000  588.000000  13862.400000  457.250000     598.000000   \n",
       "\n",
       "        Platelets  Prothrombin       Stage  \n",
       "count  407.000000   416.000000  412.000000  \n",
       "mean   257.024570    10.731731    3.024272  \n",
       "std     98.325585     1.022000    0.882042  \n",
       "min     62.000000     9.000000    1.000000  \n",
       "25%    188.500000    10.000000    2.000000  \n",
       "50%    251.000000    10.600000    3.000000  \n",
       "75%    318.000000    11.100000    4.000000  \n",
       "max    721.000000    18.000000    4.000000  "
      ]
     },
     "execution_count": 6,
     "metadata": {},
     "output_type": "execute_result"
    }
   ],
   "source": [
    "df.describe()"
   ]
  },
  {
   "cell_type": "code",
   "execution_count": 7,
   "metadata": {},
   "outputs": [
    {
     "name": "stdout",
     "output_type": "stream",
     "text": [
      "<class 'pandas.core.frame.DataFrame'>\n",
      "RangeIndex: 418 entries, 0 to 417\n",
      "Data columns (total 20 columns):\n",
      "ID               418 non-null int64\n",
      "N_Days           418 non-null int64\n",
      "Status           418 non-null object\n",
      "Drug             312 non-null object\n",
      "Age              418 non-null int64\n",
      "Sex              418 non-null object\n",
      "Ascites          312 non-null object\n",
      "Hepatomegaly     312 non-null object\n",
      "Spiders          312 non-null object\n",
      "Edema            418 non-null object\n",
      "Bilirubin        418 non-null float64\n",
      "Cholesterol      284 non-null float64\n",
      "Albumin          418 non-null float64\n",
      "Copper           310 non-null float64\n",
      "Alk_Phos         312 non-null float64\n",
      "SGOT             312 non-null float64\n",
      "Tryglicerides    282 non-null float64\n",
      "Platelets        407 non-null float64\n",
      "Prothrombin      416 non-null float64\n",
      "Stage            412 non-null float64\n",
      "dtypes: float64(10), int64(3), object(7)\n",
      "memory usage: 65.4+ KB\n"
     ]
    }
   ],
   "source": [
    "df.info()"
   ]
  },
  {
   "cell_type": "code",
   "execution_count": 8,
   "metadata": {},
   "outputs": [
    {
     "name": "stdout",
     "output_type": "stream",
     "text": [
      "Features      #Nans          \n",
      "------------------------\n",
      "N_Days        0              \n",
      "Status        0              \n",
      "Drug          106            \n",
      "Age           0              \n",
      "Sex           0              \n",
      "Ascites       106            \n",
      "Hepatomegaly  106            \n",
      "Spiders       106            \n",
      "Edema         0              \n",
      "Bilirubin     0              \n",
      "Cholesterol   134            \n",
      "Albumin       0              \n",
      "Copper        108            \n",
      "Alk_Phos      106            \n",
      "SGOT          106            \n",
      "Tryglicerides 136            \n",
      "Platelets     11             \n",
      "Prothrombin   2              \n",
      "Stage         6              \n"
     ]
    }
   ],
   "source": [
    "#removing IDs\n",
    "df=df.drop(columns=['ID'])\n",
    "\n",
    "#visualize NANs\n",
    "print (\"{:<13} {:<15}\".format('Features','#Nans'))\n",
    "print (\"------------------------\")\n",
    "for c in df.columns:\n",
    "    print (\"{:<13} {:<15}\".format(c,df[c].isna().sum()))"
   ]
  },
  {
   "cell_type": "code",
   "execution_count": 9,
   "metadata": {},
   "outputs": [
    {
     "data": {
      "text/plain": [
       "array([[<matplotlib.axes._subplots.AxesSubplot object at 0x000001C32D93FF48>]],\n",
       "      dtype=object)"
      ]
     },
     "execution_count": 9,
     "metadata": {},
     "output_type": "execute_result"
    },
    {
     "data": {
      "application/vnd.jupyter.widget-view+json": {
       "model_id": "53f5aee6948048fc903a8ef4c94dc371",
       "version_major": 2,
       "version_minor": 0
      },
      "image/png": "[encoded data removed]",
      "text/html": [
       "\n",
       "            <div style=\"display: inline-block;\">\n",
       "                <div class=\"jupyter-widgets widget-label\" style=\"text-align: center;\">\n",
       "                    Figure\n",
       "                </div>\n",
       "                <img src='data:image/png;base64,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' width=640.0/>\n",
       "            </div>\n",
       "        "
      ],
      "text/plain": [
       "Canvas(toolbar=Toolbar(toolitems=[('Home', 'Reset original view', 'home', 'home'), ('Back', 'Back to previous …"
      ]
     },
     "metadata": {},
     "output_type": "display_data"
    },
    {
     "name": "stderr",
     "output_type": "stream",
     "text": [
      "Unhandled message type set_device_pixel_ratio. {'device_pixel_ratio': 1.25, 'type': 'set_device_pixel_ratio'}\n"
     ]
    }
   ],
   "source": [
    "## Target class distribution\n",
    "df.hist(column=\"Stage\")"
   ]
  },
  {
   "cell_type": "code",
   "execution_count": 10,
   "metadata": {},
   "outputs": [
    {
     "name": "stdout",
     "output_type": "stream",
     "text": [
      "Non cat Cholesterol\n",
      "369.51056338028167\n",
      "Non cat Copper\n",
      "97.64838709677419\n",
      "Non cat Alk_Phos\n",
      "1982.6557692307692\n",
      "Non cat SGOT\n",
      "122.55634615384616\n",
      "Non cat Tryglicerides\n",
      "124.70212765957447\n",
      "Non cat Platelets\n",
      "256.1022443890274\n",
      "Non cat Prothrombin\n",
      "10.733414634146339\n",
      "Cat Ascites\n",
      "100\n",
      "Cat Hepatomegaly\n",
      "100\n",
      "Cat Spiders\n",
      "100\n"
     ]
    }
   ],
   "source": [
    "df = df.dropna(subset=['Stage']) #throw away data with no target class\n",
    "df['Drug'] = df['Drug'].fillna('NoDrug') #no drugs used not NaNs\n",
    "\n",
    "#fill non categoricals\n",
    "for c in df.columns:\n",
    "    if df[c].isna().sum()!=0:\n",
    "        if df[c].dtypes == float:\n",
    "            print('Non cat',c)\n",
    "            meanval = df[c].mean()\n",
    "            print(meanval)\n",
    "            df[c]=df[c].fillna(value=meanval)\n",
    "\n",
    "#fill categoricals \n",
    "for c in df.columns:\n",
    "    if df[c].isna().sum()!=0:\n",
    "        print('Cat',c)\n",
    "        un = df[c].dropna().unique()\n",
    "        lenfill=df[c].isna().sum()\n",
    "        print(lenfill)\n",
    "        ran = pd.Series(np.random.choice(un, size = lenfill))\n",
    "        df[c]= df[c].fillna(ran)"
   ]
  },
  {
   "cell_type": "code",
   "execution_count": 11,
   "metadata": {},
   "outputs": [
    {
     "data": {
      "application/vnd.jupyter.widget-view+json": {
       "model_id": "36886c69765f4053abbb7b0e4726eea6",
       "version_major": 2,
       "version_minor": 0
      },
      "image/png": "[encoded data removed]",
      "text/html": [
       "\n",
       "            <div style=\"display: inline-block;\">\n",
       "                <div class=\"jupyter-widgets widget-label\" style=\"text-align: center;\">\n",
       "                    Figure\n",
       "                </div>\n",
       "                <img src='data:image/png;base64,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' width=1100.0/>\n",
       "            </div>\n",
       "        "
      ],
      "text/plain": [
       "Canvas(toolbar=Toolbar(toolitems=[('Home', 'Reset original view', 'home', 'home'), ('Back', 'Back to previous …"
      ]
     },
     "metadata": {},
     "output_type": "display_data"
    }
   ],
   "source": [
    "plt.figure(figsize=(11,7))\n",
    "plt.title('Feature correlations:')\n",
    "sns.heatmap(df.corr());"
   ]
  },
  {
   "cell_type": "markdown",
   "metadata": {},
   "source": [
    "# Classification\n",
    "\n",
    "1) Baselines: XGBoost vs Random Forest\n",
    "\n",
    "2) Re-Sampling (Up-Up/Down Sampling)\n",
    "\n",
    "3) Grid Search to tune the best model"
   ]
  },
  {
   "cell_type": "code",
   "execution_count": 48,
   "metadata": {},
   "outputs": [],
   "source": [
    "for c in df.columns:\n",
    "    if df[c].dtypes != float:\n",
    "        df[c] = df[c].astype('category').cat.codes"
   ]
  },
  {
   "cell_type": "code",
   "execution_count": 49,
   "metadata": {},
   "outputs": [],
   "source": [
    "X = df.drop(columns=['Stage'])\n",
    "y = df['Stage']\n",
    "\n",
    "X_train,X_test, y_train, y_test = train_test_split(X,y,test_size=.2,random_state=42)"
   ]
  },
  {
   "cell_type": "code",
   "execution_count": 50,
   "metadata": {},
   "outputs": [],
   "source": [
    "target_names=['1','2','3','4']"
   ]
  },
  {
   "cell_type": "code",
   "execution_count": 51,
   "metadata": {},
   "outputs": [
    {
     "name": "stdout",
     "output_type": "stream",
     "text": [
      "Training set dim: (329, 18)\n",
      "Test set dim:     (83, 18)\n"
     ]
    }
   ],
   "source": [
    "print('Training set dim:',X_train.shape)\n",
    "print('Test set dim:    ',X_test.shape)"
   ]
  },
  {
   "cell_type": "markdown",
   "metadata": {},
   "source": [
    "### XGBoost"
   ]
  },
  {
   "cell_type": "code",
   "execution_count": 52,
   "metadata": {},
   "outputs": [],
   "source": [
    "xg = XGBClassifier()\n",
    "y_trainxg=y_train.astype('category').cat.codes\n",
    "xg.fit(X_train, y_trainxg)\n",
    "y_predxg = xg.predict(X_test)"
   ]
  },
  {
   "cell_type": "code",
   "execution_count": 53,
   "metadata": {},
   "outputs": [],
   "source": [
    "y_testxg = y_test.astype('category').cat.codes"
   ]
  },
  {
   "cell_type": "code",
   "execution_count": 56,
   "metadata": {},
   "outputs": [
    {
     "data": {
      "text/plain": [
       "array([2, 1, 3, 0], dtype=int64)"
      ]
     },
     "execution_count": 56,
     "metadata": {},
     "output_type": "execute_result"
    }
   ],
   "source": [
    "y_testxg.unique()"
   ]
  },
  {
   "cell_type": "code",
   "execution_count": 57,
   "metadata": {},
   "outputs": [
    {
     "name": "stdout",
     "output_type": "stream",
     "text": [
      "              precision    recall  f1-score   support\n",
      "\n",
      "           1       1.00      0.17      0.29         6\n",
      "           2       0.24      0.22      0.23        18\n",
      "           3       0.45      0.54      0.49        28\n",
      "           4       0.59      0.61      0.60        31\n",
      "\n",
      "    accuracy                           0.47        83\n",
      "   macro avg       0.57      0.38      0.40        83\n",
      "weighted avg       0.50      0.47      0.46        83\n",
      "\n"
     ]
    }
   ],
   "source": [
    "print(classification_report(y_testxg, y_predxg, target_names=target_names))"
   ]
  },
  {
   "cell_type": "markdown",
   "metadata": {},
   "source": [
    "### RandomForest"
   ]
  },
  {
   "cell_type": "code",
   "execution_count": 21,
   "metadata": {},
   "outputs": [
    {
     "name": "stdout",
     "output_type": "stream",
     "text": [
      "              precision    recall  f1-score   support\n",
      "\n",
      "           0       0.00      0.00      0.00         6\n",
      "           1       0.18      0.11      0.14        18\n",
      "           2       0.37      0.57      0.45        28\n",
      "           3       0.66      0.61      0.63        31\n",
      "\n",
      "    accuracy                           0.45        83\n",
      "   macro avg       0.30      0.32      0.31        83\n",
      "weighted avg       0.41      0.45      0.42        83\n",
      "\n"
     ]
    },
    {
     "name": "stderr",
     "output_type": "stream",
     "text": [
      "c:\\Users\\39345\\Anaconda3\\lib\\site-packages\\sklearn\\metrics\\_classification.py:1318: UndefinedMetricWarning: Precision and F-score are ill-defined and being set to 0.0 in labels with no predicted samples. Use `zero_division` parameter to control this behavior.\n",
      "  _warn_prf(average, modifier, msg_start, len(result))\n",
      "c:\\Users\\39345\\Anaconda3\\lib\\site-packages\\sklearn\\metrics\\_classification.py:1318: UndefinedMetricWarning: Precision and F-score are ill-defined and being set to 0.0 in labels with no predicted samples. Use `zero_division` parameter to control this behavior.\n",
      "  _warn_prf(average, modifier, msg_start, len(result))\n",
      "c:\\Users\\39345\\Anaconda3\\lib\\site-packages\\sklearn\\metrics\\_classification.py:1318: UndefinedMetricWarning: Precision and F-score are ill-defined and being set to 0.0 in labels with no predicted samples. Use `zero_division` parameter to control this behavior.\n",
      "  _warn_prf(average, modifier, msg_start, len(result))\n"
     ]
    }
   ],
   "source": [
    "rf = RandomForestClassifier()\n",
    "rf.fit(X_train, y_train)\n",
    "y_predrf = rf.predict(X_test)\n",
    "\n",
    "print(classification_report(y_test, y_predrf, target_names=target_names, zero_division=\"warn\"))"
   ]
  },
  {
   "cell_type": "markdown",
   "metadata": {},
   "source": [
    "## ReSampling"
   ]
  },
  {
   "cell_type": "code",
   "execution_count": 68,
   "metadata": {},
   "outputs": [
    {
     "data": {
      "text/plain": [
       "(508, 18)"
      ]
     },
     "execution_count": 68,
     "metadata": {},
     "output_type": "execute_result"
    }
   ],
   "source": [
    "up=True # if True Up else False --> Up/DOwn\n",
    "if up:\n",
    "    smNC = SMOTENC(random_state=42, categorical_features=[1,2,4,5,6,7,8])\n",
    "    X_train_u, y_train_u = smNC.fit_resample(X_train, y_train)\n",
    "else:\n",
    "    smT = SMOTETomek(random_state=42)\n",
    "    X_train_u, y_train_u = smT.fit_resample(X_train, y_train)\n",
    "\n",
    "X_train_u.shape"
   ]
  },
  {
   "cell_type": "code",
   "execution_count": 75,
   "metadata": {},
   "outputs": [],
   "source": [
    "xg_u = XGBClassifier()\n",
    "y_trainxg_u=y_train_u.astype('category').cat.codes\n",
    "xg_u.fit(X_train_u, y_trainxg_u)\n",
    "y_predxg_u = xg_u.predict(X_test)"
   ]
  },
  {
   "cell_type": "code",
   "execution_count": 76,
   "metadata": {},
   "outputs": [],
   "source": [
    "y_testxg_u = y_test.astype('category').cat.codes"
   ]
  },
  {
   "cell_type": "code",
   "execution_count": 77,
   "metadata": {},
   "outputs": [
    {
     "name": "stdout",
     "output_type": "stream",
     "text": [
      "Test Report\n",
      "              precision    recall  f1-score   support\n",
      "\n",
      "           1       0.80      0.67      0.73         6\n",
      "           2       0.21      0.22      0.22        18\n",
      "           3       0.39      0.39      0.39        28\n",
      "           4       0.55      0.55      0.55        31\n",
      "\n",
      "    accuracy                           0.43        83\n",
      "   macro avg       0.49      0.46      0.47        83\n",
      "weighted avg       0.44      0.43      0.44        83\n",
      "\n"
     ]
    }
   ],
   "source": [
    "print('Test Report')\n",
    "print(classification_report(y_testxg_u, y_predxg_u, target_names=target_names))"
   ]
  },
  {
   "cell_type": "markdown",
   "metadata": {},
   "source": [
    "## GridSearchCV"
   ]
  },
  {
   "cell_type": "code",
   "execution_count": 40,
   "metadata": {},
   "outputs": [
    {
     "data": {
      "text/plain": [
       "GridSearchCV(estimator=XGBClassifier(base_score=None, booster=None,\n",
       "                                     callbacks=None, colsample_bylevel=None,\n",
       "                                     colsample_bynode=None,\n",
       "                                     colsample_bytree=None,\n",
       "                                     early_stopping_rounds=None,\n",
       "                                     enable_categorical=False, eval_metric=None,\n",
       "                                     gamma=None, gpu_id=None, grow_policy=None,\n",
       "                                     importance_type=None,\n",
       "                                     interaction_constraints=None,\n",
       "                                     learning_rate=None, max_bin=None,\n",
       "                                     max_cat_to_...\n",
       "                                     max_leaves=None, min_child_weight=None,\n",
       "                                     missing=nan, monotone_constraints=None,\n",
       "                                     n_estimators=100, n_jobs=None,\n",
       "                                     num_parallel_tree=None, predictor=None,\n",
       "                                     random_state=None, reg_alpha=None,\n",
       "                                     reg_lambda=None, ...),\n",
       "             param_grid={'colsample_bytree': [0.6, 0.8, 1.0],\n",
       "                         'gamma': [0.5, 1, 1.5, 2, 5],\n",
       "                         'max_depth': [3, 5, 10, 15, 18],\n",
       "                         'min_child_weight': [1, 5, 10],\n",
       "                         'subsample': [0.6, 0.8, 1.0]},\n",
       "             scoring='f1_macro')"
      ]
     },
     "execution_count": 40,
     "metadata": {},
     "output_type": "execute_result"
    }
   ],
   "source": [
    "params = {\n",
    "        'min_child_weight': [1, 5, 10],\n",
    "        'gamma': [0.5, 1, 1.5, 2, 5],\n",
    "        'subsample': [0.6, 0.8, 1.0],\n",
    "        'colsample_bytree': [0.6, 0.8, 1.0],\n",
    "        'max_depth': [3,5,10,15,18]\n",
    "        }\n",
    "\n",
    "metric = 'f1_macro'\n",
    "\n",
    "xgb = XGBClassifier()\n",
    "clf = GridSearchCV(xgb, params,scoring = metric)\n",
    "clf.fit(X_train_u, y_trainxg_u)"
   ]
  },
  {
   "cell_type": "code",
   "execution_count": 41,
   "metadata": {},
   "outputs": [
    {
     "name": "stdout",
     "output_type": "stream",
     "text": [
      "Best parameters {'colsample_bytree': 0.8, 'gamma': 0.5, 'max_depth': 5, 'min_child_weight': 1, 'subsample': 0.8}\n",
      "Best score 0.6885636844865994\n"
     ]
    }
   ],
   "source": [
    "print('Best parameters',clf.best_params_)\n",
    "print('Best score',clf.best_score_)"
   ]
  },
  {
   "cell_type": "code",
   "execution_count": 64,
   "metadata": {},
   "outputs": [
    {
     "name": "stdout",
     "output_type": "stream",
     "text": [
      "              precision    recall  f1-score   support\n",
      "\n",
      "           1       0.80      0.67      0.73         6\n",
      "           2       0.21      0.22      0.22        18\n",
      "           3       0.46      0.46      0.46        28\n",
      "           4       0.55      0.55      0.55        31\n",
      "\n",
      "    accuracy                           0.46        83\n",
      "   macro avg       0.51      0.48      0.49        83\n",
      "weighted avg       0.46      0.46      0.46        83\n",
      "\n"
     ]
    }
   ],
   "source": [
    "best_model = XGBClassifier(colsample_bytree= .8, gamma= .5, max_depth= 5, min_child_weight= 1, subsample= 0.8)\n",
    "best_model.fit(X_train_u, y_trainxg_u)\n",
    "y_pred=best_model.predict(X_test)\n",
    "print(classification_report(y_testxg_u, y_pred, target_names=target_names))"
   ]
  },
  {
   "cell_type": "code",
   "execution_count": 46,
   "metadata": {},
   "outputs": [
    {
     "data": {
      "text/plain": [
       "array([2, 2, 3, 2, 3, 3, 2, 0, 3, 1, 2, 2, 2, 3, 2, 3, 2, 1, 2, 3, 2, 3,\n",
       "       3, 1, 2, 1, 3, 3, 3, 2, 3, 3, 2, 2, 1, 1, 1, 1, 2, 0, 3, 1, 1, 1,\n",
       "       1, 1, 0, 3, 2, 3, 2, 3, 3, 2, 0, 0, 1, 2, 2, 3, 3, 2, 2, 2, 3, 0,\n",
       "       3, 2, 1, 3, 0, 2, 1, 3, 2, 2, 3, 2, 3, 2, 3, 1, 3], dtype=int64)"
      ]
     },
     "execution_count": 46,
     "metadata": {},
     "output_type": "execute_result"
    }
   ],
   "source": [
    "y_pred"
   ]
  },
  {
   "cell_type": "code",
   "execution_count": 58,
   "metadata": {},
   "outputs": [
    {
     "data": {
      "text/plain": [
       "272    2\n",
       "55     1\n",
       "238    3\n",
       "33     1\n",
       "286    3\n",
       "      ..\n",
       "153    2\n",
       "198    2\n",
       "84     3\n",
       "412    2\n",
       "172    1\n",
       "Length: 83, dtype: int8"
      ]
     },
     "execution_count": 58,
     "metadata": {},
     "output_type": "execute_result"
    }
   ],
   "source": [
    "y_testxg"
   ]
  }
 ],
 "metadata": {
  "kernelspec": {
   "display_name": "Python 3.7.4 ('base')",
   "language": "python",
   "name": "python3"
  },
  "language_info": {
   "codemirror_mode": {
    "name": "ipython",
    "version": 3
   },
   "file_extension": ".py",
   "mimetype": "text/x-python",
   "name": "python",
   "nbconvert_exporter": "python",
   "pygments_lexer": "ipython3",
   "version": "3.7.4"
  },
  "orig_nbformat": 4,
  "vscode": {
   "interpreter": {
    "hash": "21521e568a6b7ddd686a66dd378dca4d49b58ad024a61c0ba941f51b0c666c14"
   }
  }
 },
 "nbformat": 4,
 "nbformat_minor": 2
}
